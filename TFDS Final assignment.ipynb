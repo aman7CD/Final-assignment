{
 "cells": [
  {
   "cell_type": "markdown",
   "id": "e5904b8f-de4e-457f-ab3a-b0635618961a",
   "metadata": {},
   "source": [
    "# My Jupyter Notebook on IBM Watson Studio"
   ]
  },
  {
   "cell_type": "markdown",
   "id": "84f86098-b7c0-470f-b7c5-5b0912530870",
   "metadata": {},
   "source": [
    "**Aman Chaudhry**"
   ]
  },
  {
   "cell_type": "markdown",
   "id": "96d2af75-5d13-4fed-a09a-c2d6ade6ec10",
   "metadata": {},
   "source": [
    "Data Scientist"
   ]
  },
  {
   "cell_type": "markdown",
   "id": "02202430-3000-4846-9b98-08a9ff461897",
   "metadata": {},
   "source": [
    "*I am interested in data science because it is the future of humanity.It is gonna change the way companies operate their bussinesses.*"
   ]
  },
  {
   "cell_type": "markdown",
   "id": "9005607f-d4e1-48a8-92fa-6ea9abecf82d",
   "metadata": {},
   "source": [
    "***The below code is for the multiplication of two numbers***"
   ]
  },
  {
   "cell_type": "code",
   "execution_count": 4,
   "id": "df06c653-c5b9-4834-a8cb-ea30a51cfed3",
   "metadata": {},
   "outputs": [
    {
     "name": "stdout",
     "output_type": "stream",
     "text": [
      "30\n"
     ]
    }
   ],
   "source": [
    "a = 5\n",
    "b = 6\n",
    "c = a*b \n",
    "print(c)"
   ]
  },
  {
   "cell_type": "markdown",
   "id": "570a8412-5ea2-4941-9da6-1d3051c1869c",
   "metadata": {},
   "source": [
    "*  apple\n",
    "*  bat\n",
    "*  cat"
   ]
  },
  {
   "cell_type": "markdown",
   "id": "dd8eb97b-95f8-49bb-990f-0b87ae377f0c",
   "metadata": {},
   "source": [
    "1.apple\n",
    "2.bat\n",
    "3.cat"
   ]
  },
  {
   "cell_type": "code",
   "execution_count": null,
   "id": "75353205-827e-410d-9037-e017c5eac80f",
   "metadata": {},
   "outputs": [],
   "source": []
  }
 ],
 "metadata": {
  "kernelspec": {
   "display_name": "Python",
   "language": "python",
   "name": "conda-env-python-py"
  },
  "language_info": {
   "codemirror_mode": {
    "name": "ipython",
    "version": 3
   },
   "file_extension": ".py",
   "mimetype": "text/x-python",
   "name": "python",
   "nbconvert_exporter": "python",
   "pygments_lexer": "ipython3",
   "version": "3.7.12"
  }
 },
 "nbformat": 4,
 "nbformat_minor": 5
}
